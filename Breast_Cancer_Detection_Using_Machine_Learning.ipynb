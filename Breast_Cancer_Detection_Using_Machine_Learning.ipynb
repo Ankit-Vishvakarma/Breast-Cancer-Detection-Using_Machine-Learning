{
  "nbformat": 4,
  "nbformat_minor": 0,
  "metadata": {
    "colab": {
      "name": "Breast_Cancer_Detection_Using_Machine_Learning.ipynb",
      "provenance": [],
      "authorship_tag": "ABX9TyONQRN0reG65550b/qfFhwb",
      "include_colab_link": true
    },
    "kernelspec": {
      "name": "python3",
      "display_name": "Python 3"
    },
    "language_info": {
      "name": "python"
    }
  },
  "cells": [
    {
      "cell_type": "markdown",
      "metadata": {
        "id": "view-in-github",
        "colab_type": "text"
      },
      "source": [
        "<a href=\"https://colab.research.google.com/github/Ankit-Vishvakarma/Breast-Cancer-Detection-Using_Machine-Learning/blob/main/Breast_Cancer_Detection_Using_Machine_Learning.ipynb\" target=\"_parent\"><img src=\"https://colab.research.google.com/assets/colab-badge.svg\" alt=\"Open In Colab\"/></a>"
      ]
    },
    {
      "cell_type": "code",
      "execution_count": 1,
      "metadata": {
        "id": "Htu3m4apGvPY"
      },
      "outputs": [],
      "source": [
        "from sklearn.datasets import load_breast_cancer\n",
        "from sklearn.model_selection import train_test_split\n",
        "from sklearn.naive_bayes import GaussianNB\n",
        "from sklearn.linear_model import LinearRegression\n",
        "from sklearn.metrics import accuracy_score"
      ]
    },
    {
      "cell_type": "markdown",
      "source": [
        "**Now we need to create new variables for each important set of information that we find useful and assign the attributes in the dataset to those variables:**"
      ],
      "metadata": {
        "id": "iXPXLLhNM_Vq"
      }
    },
    {
      "cell_type": "code",
      "source": [
        "data = load_breast_cancer()\n",
        "label_names = data[\"target_names\"]\n",
        "labels = data[\"target\"]\n",
        "feature_names = data[\"feature_names\"]\n",
        "features = data[\"data\"]"
      ],
      "metadata": {
        "id": "k8NDhGKNG4wH"
      },
      "execution_count": 2,
      "outputs": []
    },
    {
      "cell_type": "markdown",
      "source": [
        "**We now have values for each set of useful information in the dataset. To better understand our dataset, let’s take a look at our data by printing our class labels, the label for the first data instance, our entity names, and the entity values for the first data instance:**"
      ],
      "metadata": {
        "id": "ZdeXcdm4NKse"
      }
    },
    {
      "cell_type": "code",
      "source": [
        "print(label_names)\n",
        "print(\"Class label :\", labels[0])\n",
        "print(feature_names)\n",
        "print(features[0], \"\\n\")"
      ],
      "metadata": {
        "colab": {
          "base_uri": "https://localhost:8080/"
        },
        "id": "RW2vTVKzM50r",
        "outputId": "ac94ee04-426b-48e1-ef22-c75d2e3314d2"
      },
      "execution_count": 3,
      "outputs": [
        {
          "output_type": "stream",
          "name": "stdout",
          "text": [
            "['malignant' 'benign']\n",
            "Class label : 0\n",
            "['mean radius' 'mean texture' 'mean perimeter' 'mean area'\n",
            " 'mean smoothness' 'mean compactness' 'mean concavity'\n",
            " 'mean concave points' 'mean symmetry' 'mean fractal dimension'\n",
            " 'radius error' 'texture error' 'perimeter error' 'area error'\n",
            " 'smoothness error' 'compactness error' 'concavity error'\n",
            " 'concave points error' 'symmetry error' 'fractal dimension error'\n",
            " 'worst radius' 'worst texture' 'worst perimeter' 'worst area'\n",
            " 'worst smoothness' 'worst compactness' 'worst concavity'\n",
            " 'worst concave points' 'worst symmetry' 'worst fractal dimension']\n",
            "[1.799e+01 1.038e+01 1.228e+02 1.001e+03 1.184e-01 2.776e-01 3.001e-01\n",
            " 1.471e-01 2.419e-01 7.871e-02 1.095e+00 9.053e-01 8.589e+00 1.534e+02\n",
            " 6.399e-03 4.904e-02 5.373e-02 1.587e-02 3.003e-02 6.193e-03 2.538e+01\n",
            " 1.733e+01 1.846e+02 2.019e+03 1.622e-01 6.656e-01 7.119e-01 2.654e-01\n",
            " 4.601e-01 1.189e-01] \n",
            "\n"
          ]
        }
      ]
    },
    {
      "cell_type": "markdown",
      "source": [
        "Now that our data is loaded, we can work with our data to build our machine learning model using the Naive Bayes algorithm for the breast cancer detection task."
      ],
      "metadata": {
        "id": "l6FS93KHNeTp"
      }
    },
    {
      "cell_type": "markdown",
      "source": [
        "# Splitting The Dataset"
      ],
      "metadata": {
        "id": "KWwEK79GNlGy"
      }
    },
    {
      "cell_type": "markdown",
      "source": [
        "To evaluate the performance of a classifier, you should always test the model on invisible data. Therefore, before I create a machine learning model for breast cancer detection, I will divide your data into two parts: an 80% training set and a 20% test set:"
      ],
      "metadata": {
        "id": "3z83WMq-Nuif"
      }
    },
    {
      "cell_type": "code",
      "source": [
        "train, test, train_labels, test_labels = train_test_split(features, labels,test_size=0.2,random_state=42)"
      ],
      "metadata": {
        "id": "8TfrESv0NfsW"
      },
      "execution_count": 4,
      "outputs": []
    },
    {
      "cell_type": "markdown",
      "source": [
        "# Using Naive Bayes for Breast Cancer Detection"
      ],
      "metadata": {
        "id": "W1NjASqrN_Bs"
      }
    },
    {
      "cell_type": "code",
      "source": [
        "gnb = GaussianNB()\n",
        "gnb.fit(train, train_labels)"
      ],
      "metadata": {
        "colab": {
          "base_uri": "https://localhost:8080/"
        },
        "id": "AzAMjQjoN5qo",
        "outputId": "2bd01e66-14b7-443f-e7c8-a67d28b5526a"
      },
      "execution_count": 5,
      "outputs": [
        {
          "output_type": "execute_result",
          "data": {
            "text/plain": [
              "GaussianNB()"
            ]
          },
          "metadata": {},
          "execution_count": 5
        }
      ]
    },
    {
      "cell_type": "markdown",
      "source": [
        "After training the model, we can then use the trained model to make predictions on our test set, which we use the predict() function."
      ],
      "metadata": {
        "id": "GVnJub8hOSgC"
      }
    },
    {
      "cell_type": "markdown",
      "source": [
        "The predict() function returns an array of predictions for each data instance in the test set. We can then print out our predictions to get a feel for what the model determined:"
      ],
      "metadata": {
        "id": "ISH30C2tOZtR"
      }
    },
    {
      "cell_type": "code",
      "source": [
        "preds = gnb.predict(test)\n",
        "print(preds, \"\\n\")"
      ],
      "metadata": {
        "colab": {
          "base_uri": "https://localhost:8080/"
        },
        "id": "Pr-cNmcBOEZt",
        "outputId": "cff42b75-77d3-4a4a-f08b-6f4d8a6b0622"
      },
      "execution_count": 6,
      "outputs": [
        {
          "output_type": "stream",
          "name": "stdout",
          "text": [
            "[1 0 0 1 1 0 0 0 1 1 1 0 1 0 1 0 1 1 1 0 1 1 0 1 1 1 1 1 1 0 1 1 1 1 1 1 0\n",
            " 1 0 1 1 0 1 1 1 1 1 1 1 1 0 0 1 1 1 1 1 0 0 1 1 0 0 1 1 1 0 0 1 1 0 0 1 0\n",
            " 1 1 1 1 1 1 0 1 1 0 0 0 0 0 1 1 1 1 1 1 1 1 0 0 1 0 0 1 0 0 1 1 1 0 1 1 0\n",
            " 1 1 0] \n",
            "\n"
          ]
        }
      ]
    },
    {
      "cell_type": "markdown",
      "source": [
        "Using the array of true class labels, we can assess the accuracy of our model’s predictors by comparing the two arrays (test_labels vs preds).\n",
        "\n",
        "We will use the **accuracy_score ()** function provided by Scikit-Learn to determine the accuracy rate of our machine learning classifier:"
      ],
      "metadata": {
        "id": "9VmAtX9MOoC4"
      }
    },
    {
      "cell_type": "code",
      "source": [
        "print(accuracy_score(test_labels, preds))"
      ],
      "metadata": {
        "colab": {
          "base_uri": "https://localhost:8080/"
        },
        "id": "0FPbEF2uOd-S",
        "outputId": "22e0cc99-83e1-4272-a360-d0c332a85c98"
      },
      "execution_count": 7,
      "outputs": [
        {
          "output_type": "stream",
          "name": "stdout",
          "text": [
            "0.9736842105263158\n"
          ]
        }
      ]
    },
    {
      "cell_type": "markdown",
      "source": [
        "# accuracy_score () : 0.9736842105263158"
      ],
      "metadata": {
        "id": "PvK13dU5PKLV"
      }
    },
    {
      "cell_type": "code",
      "source": [
        ""
      ],
      "metadata": {
        "id": "np9vDKhMPFtj"
      },
      "execution_count": 7,
      "outputs": []
    }
  ]
}